{
 "cells": [
  {
   "cell_type": "code",
   "execution_count": 1,
   "metadata": {},
   "outputs": [
    {
     "name": "stdout",
     "output_type": "stream",
     "text": [
      "Requirement already satisfied: pygame in /home/uddeshya/anaconda3/lib/python3.7/site-packages (1.9.6)\n",
      "Note: you may need to restart the kernel to use updated packages.\n"
     ]
    }
   ],
   "source": [
    "pip install pygame"
   ]
  },
  {
   "cell_type": "code",
   "execution_count": 3,
   "metadata": {},
   "outputs": [],
   "source": [
    "import pygame\n",
    "pygame.mixer.init()\n",
    "pygame.mixer.music.load('clock.ogg')#any mp3 file\n",
    "pygame.mixer.music.play()\n",
    "while pygame.mixer.music.get_busy():\n",
    "  pygame.time.Clock().tick()"
   ]
  },
  {
   "cell_type": "code",
   "execution_count": 7,
   "metadata": {},
   "outputs": [
    {
     "name": "stdout",
     "output_type": "stream",
     "text": [
      "For how many seconds do you want to set the timer? 10\n",
      "Time's up!!!\n"
     ]
    }
   ],
   "source": [
    "# import the time module \n",
    "import time \n",
    "import pygame\n",
    "\n",
    "# define the countdown func. \n",
    "def countdown(t): \n",
    "    \n",
    "    while t:\n",
    "        \n",
    "        #divmod functions return quotient and remainder\n",
    "        mins, secs = divmod(t, 60) \n",
    "        \n",
    "        #:02d repesents that minutes and seconds will be represented in 2 digits\n",
    "        timer = '{:02d}:{:02d}'.format(mins, secs) \n",
    "        pygame.mixer.init()\n",
    "        pygame.mixer.music.load('clock.ogg')#any mp3 file\n",
    "        pygame.mixer.music.play()\n",
    "      #  while pygame.mixer.music.get_busy():\n",
    "        pygame.time.Clock().tick()\n",
    "        print(timer, end=\"\\r\") \n",
    "        time.sleep(1) \n",
    "        t -= 1\n",
    "    print('Time\\'s up!!!') \n",
    "\n",
    "\n",
    "# input time in seconds \n",
    "t = input(\"For how many seconds do you want to set the timer? \") \n",
    "\n",
    "# function call \n",
    "countdown(int(t)) \n",
    "\n"
   ]
  },
  {
   "cell_type": "code",
   "execution_count": 7,
   "metadata": {},
   "outputs": [
    {
     "ename": "ModuleNotFoundError",
     "evalue": "No module named 'pyaudio'",
     "output_type": "error",
     "traceback": [
      "\u001b[0;31m---------------------------------------------------------------------------\u001b[0m",
      "\u001b[0;31mModuleNotFoundError\u001b[0m                       Traceback (most recent call last)",
      "\u001b[0;32m<ipython-input-7-2289a8273847>\u001b[0m in \u001b[0;36m<module>\u001b[0;34m\u001b[0m\n\u001b[1;32m      1\u001b[0m \u001b[0;32mimport\u001b[0m \u001b[0mtime\u001b[0m\u001b[0;34m\u001b[0m\u001b[0;34m\u001b[0m\u001b[0m\n\u001b[1;32m      2\u001b[0m \u001b[0;32mimport\u001b[0m \u001b[0mos\u001b[0m\u001b[0;34m\u001b[0m\u001b[0;34m\u001b[0m\u001b[0m\n\u001b[0;32m----> 3\u001b[0;31m \u001b[0;32mimport\u001b[0m \u001b[0mpyaudio\u001b[0m  \u001b[0;31m# to play alarm\u001b[0m\u001b[0;34m\u001b[0m\u001b[0;34m\u001b[0m\u001b[0m\n\u001b[0m\u001b[1;32m      4\u001b[0m \u001b[0;32mimport\u001b[0m \u001b[0mwave\u001b[0m     \u001b[0;31m# to play alarm\u001b[0m\u001b[0;34m\u001b[0m\u001b[0;34m\u001b[0m\u001b[0m\n\u001b[1;32m      5\u001b[0m \u001b[0;34m\u001b[0m\u001b[0m\n",
      "\u001b[0;31mModuleNotFoundError\u001b[0m: No module named 'pyaudio'"
     ]
    }
   ],
   "source": [
    "\n",
    "import time\n",
    "import os\n",
    "import pyaudio  # to play alarm\n",
    "import wave     # to play alarm\n",
    "\n",
    "\n",
    "def play_bell():\n",
    "    \"\"\"Geez, playing audio in Python is kind of complicated!\n",
    "    \"\"\"\n",
    "    # set things up to play a file\n",
    "    chunk = 1024    # defines a stream chunk\n",
    "    f = wave.open(r\"./alarm_bell.wav\",\"rb\")\n",
    "    p = pyaudio.PyAudio()\n",
    "    stream = p.open(format = p.get_format_from_width(f.getsampwidth()), channels = f.getnchannels(), rate = f.getframerate(), output = True)\n",
    "    data = f.readframes(chunk)\n",
    "    # go through the file and play the file\n",
    "    while data:\n",
    "        stream.write(data)\n",
    "        data = f.readframes(chunk)\n",
    "    # close things up\n",
    "    stream.stop_stream()\n",
    "    stream.close()\n",
    "    p.terminate()\n",
    "\n",
    "def input_time():\n",
    "    t_string = input(\"Countdown time (min, or xx:yy:zz): \")\n",
    "    # process the input to find out which format it's in,\n",
    "    # and convert input string to minutes\n",
    "    if \":\" in t_string:\n",
    "        t_list = t_string.split(\":\")\n",
    "        if len(t_list) == 2:\n",
    "            t = float(t_list[0]) + \\\n",
    "                float(t_list[1])/60.0\n",
    "        elif len(t_list) == 3:\n",
    "            t = float(t_list[0]) * 60 + \\\n",
    "                float(t_list[1]) + \\\n",
    "                float(t_list[2]) / 60.0\n",
    "        else:\n",
    "            print(\"Error. Time format should be MM:SS or HH:MM:SS.\")\n",
    "            os.exit()\n",
    "    else:\n",
    "        t = eval(t_string)\n",
    "    return t\n",
    "\n",
    "def time_string(tf):\n",
    "    secs_remaining = int(tf - time.time())\n",
    "    hours = secs_remaining // 3600\n",
    "    minutes = (secs_remaining - hours * 3600) // 60\n",
    "    seconds = secs_remaining - hours * 3600 - minutes * 60\n",
    "    return \"{0:2s}:{1:2s}:{2:2s}\".format(str(hours).zfill(2), str(minutes).zfill(2), str(seconds).zfill(2))\n",
    "\n",
    "         \n",
    "def run_loop(tf):\n",
    "    while time.time() < tf - 1:\n",
    "        os.system(\"clear\")\n",
    "        print(time_string(tf))\n",
    "        time.sleep(1)\n",
    " \n",
    "def main():\n",
    "    t = input_time()\n",
    "    tf = time.time() + t*60 + 1 # off-by-one error, start at given time\n",
    "    run_loop(tf)\n",
    "    os.system(\"clear\")\n",
    "    print(\"00:00:00\")\n",
    "    play_bell()\n",
    "\n",
    "if __name__ == \"__main__\":\n",
    "    main()"
   ]
  },
  {
   "cell_type": "code",
   "execution_count": 8,
   "metadata": {},
   "outputs": [
    {
     "data": {
      "text/plain": [
       "32512"
      ]
     },
     "execution_count": 8,
     "metadata": {},
     "output_type": "execute_result"
    }
   ],
   "source": [
    "import os\n",
    "os.system('beep')"
   ]
  },
  {
   "cell_type": "code",
   "execution_count": 13,
   "metadata": {},
   "outputs": [
    {
     "data": {
      "text/plain": [
       "'1.9.6'"
      ]
     },
     "execution_count": 13,
     "metadata": {},
     "output_type": "execute_result"
    }
   ],
   "source": [
    "pygame.version.ver\n"
   ]
  },
  {
   "cell_type": "code",
   "execution_count": null,
   "metadata": {},
   "outputs": [],
   "source": []
  }
 ],
 "metadata": {
  "kernelspec": {
   "display_name": "Python 3",
   "language": "python",
   "name": "python3"
  },
  "language_info": {
   "codemirror_mode": {
    "name": "ipython",
    "version": 3
   },
   "file_extension": ".py",
   "mimetype": "text/x-python",
   "name": "python",
   "nbconvert_exporter": "python",
   "pygments_lexer": "ipython3",
   "version": "3.7.6"
  }
 },
 "nbformat": 4,
 "nbformat_minor": 4
}
